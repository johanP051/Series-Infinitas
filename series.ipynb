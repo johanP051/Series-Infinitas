{
 "cells": [
  {
   "cell_type": "code",
   "execution_count": 10,
   "metadata": {},
   "outputs": [
    {
     "name": "stdout",
     "output_type": "stream",
     "text": [
      "Para n = 10, La serie converge a S_n = 1.9990234375\n",
      "Para n = 50, La serie converge a S_n = 1.9999999999999991\n",
      "Para n = 100, La serie converge a S_n = 2.0\n"
     ]
    }
   ],
   "source": [
    "#Escriba un código en Python para calcular la suma de la serie geométrica 1/2^i para n ∈ {10, 50, 100}\n",
    "def serie(n):\n",
    "    s_n = 0\n",
    "    for i in range(0, n + 1):\n",
    "        s_n += 1 / (2**i)\n",
    "    return s_n\n",
    "\n",
    "N = [10, 50, 100]\n",
    "\n",
    "for n in N:\n",
    "    print(f\"Para n = {n}, La serie converge a S_n = {serie(n)}\")\n",
    "\n"
   ]
  },
  {
   "cell_type": "code",
   "execution_count": 1,
   "metadata": {},
   "outputs": [
    {
     "name": "stdout",
     "output_type": "stream",
     "text": [
      "Para n = 10, La serie armonica 1/i^2 converge a S_n= 1.5497677311665408\n",
      "Para n = 50, La serie armonica 1/i^2 converge a S_n= 1.625132733621529\n",
      "Para n = 100, La serie armonica 1/i^2 converge a S_n= 1.6349839001848923\n",
      "Para n = 10, La serie armonica 1/i^5 converge a S_n= 1.0369073413446939\n",
      "Para n = 50, La serie armonica 1/i^5 converge a S_n= 1.036927716716712\n",
      "Para n = 100, La serie armonica 1/i^5 converge a S_n= 1.0369277526929555\n"
     ]
    }
   ],
   "source": [
    "# Compara la convergencia de las series 1/i² y 1/i^5 mediante la comparación de sus sumas parciales en n ∈ {10, 50, 100}\n",
    "def serie_armonica(n, p):\n",
    "    #1 / n^p converge para p >1\n",
    "    s_n = 0\n",
    "    for i in range(1, n + 1):\n",
    "        s_n += 1/ i**p\n",
    "    return s_n\n",
    "\n",
    "P = [2, 5]\n",
    "N = [10, 50, 100]\n",
    "\n",
    "for p in P:\n",
    "    for n in N:\n",
    "        print(f\"Para n = {n}, La serie armonica 1/i^{p} converge a S_n= {serie_armonica(n, p)}\")"
   ]
  },
  {
   "cell_type": "code",
   "execution_count": 23,
   "metadata": {},
   "outputs": [
    {
     "name": "stdout",
     "output_type": "stream",
     "text": [
      "12.090156129763336\n"
     ]
    }
   ],
   "source": [
    "#Programe la n-esima suma parcial de la serie armónica 1/i . Dé el N lo suficientemente grande para que S_n sobre pase el valor de 10.\n",
    "\n",
    "\n",
    "#Para que s_n sea mayor a 10, n tiene que ser >= a 100001\n",
    "n_1 = 100001\n",
    "p_1 = 1\n",
    "\n",
    "print(f\"{serie_armonica(n_1, p_1)}\")\n",
    "\n"
   ]
  }
 ],
 "metadata": {
  "kernelspec": {
   "display_name": "Python 3",
   "language": "python",
   "name": "python3"
  },
  "language_info": {
   "codemirror_mode": {
    "name": "ipython",
    "version": 3
   },
   "file_extension": ".py",
   "mimetype": "text/x-python",
   "name": "python",
   "nbconvert_exporter": "python",
   "pygments_lexer": "ipython3",
   "version": "3.12.3"
  }
 },
 "nbformat": 4,
 "nbformat_minor": 2
}
